{
 "cells": [
  {
   "cell_type": "markdown",
   "metadata": {},
   "source": [
    "# Projeto de Ciências de Dados\n",
    "\n",
    "## **Impacto das Redes Sociais na Saúde Mental**\n",
    "\n",
    "As redes sociais, apesar de oferecerem diversos benefícios, também podem apresentar efeitos negativos na saúde mental dos usuários. Estudos recentes indicam que o uso excessivo das redes sociais pode estar associado a diversos transtornos, como ansiedade, depressão, baixa autoestima, problemas de sono e até mesmo vício.\n",
    "\n",
    "Este projeto se propõe a contribuir para a compreensão mais profunda dos efeitos do uso excessivo das redes sociais na saúde mental, fornecendo dados empíricos que possibilitem a criação de intervenções eficazes para prevenir e mitigar tais efeitos.\n",
    "\n",
    "Os objetivos especificos do projeto são:\n",
    "> Identificar os principais impactos do uso excessivo das redes sociais na saúde mental dos indivíduos;\n",
    "\n",
    "> Investigar as variáveis que moderam a relação entre o uso das redes sociais e a saúde mental;\n",
    "\n",
    "> Desenvolver um modelo preditivo para identificar indivíduos em risco de desenvolver problemas de saúde mental devido ao uso excessivo das redes sociais.\n",
    "\n"
   ]
  },
  {
   "cell_type": "markdown",
   "metadata": {},
   "source": [
    "## Analise de Dados\n",
    "\n"
   ]
  },
  {
   "cell_type": "markdown",
   "metadata": {},
   "source": [
    "### Parte 1 \n",
    "\n"
   ]
  },
  {
   "cell_type": "markdown",
   "metadata": {},
   "source": [
    "> Importação dos dados"
   ]
  },
  {
   "cell_type": "code",
   "execution_count": null,
   "metadata": {},
   "outputs": [],
   "source": [
    "\n",
    "import pandas as pd\n",
    "\n",
    "dados = pd.read_excel(\"Questionário de Pesquisa_ Impacto das Redes Sociais na Saúde Mental.xlsx\")\n",
    "\n"
   ]
  },
  {
   "cell_type": "code",
   "execution_count": null,
   "metadata": {},
   "outputs": [],
   "source": [
    "dados.head()"
   ]
  },
  {
   "cell_type": "markdown",
   "metadata": {},
   "source": [
    "\n",
    "\n",
    "> Padronização dos Dados"
   ]
  },
  {
   "cell_type": "code",
   "execution_count": null,
   "metadata": {},
   "outputs": [],
   "source": [
    "dados.columns"
   ]
  },
  {
   "cell_type": "code",
   "execution_count": null,
   "metadata": {},
   "outputs": [],
   "source": [
    "colunas = pd.Series(dados.columns)\n",
    "\n",
    "colunas_resumidas = {\n",
    "    'Id' : 'Id', 'Hora de início': 'Inicio', 'Hora de conclusão': 'Fim', 'Email': 'Email', 'Nome' : 'Nome',\n",
    "       'Antes de iniciarmos, gostaríamos de confirmar se você consente em utilizar suas respostas para fins de pesquisa': 'Consentimento',\n",
    "       'Quantos anos você tem?': 'Idade', 'Qual é o seu sexo?': 'Sexo',\n",
    "       'Quais são suas principais ocupações? (Marque todas as opções que se aplicam a você)': 'Ocupações',\n",
    "       'Você usa redes sociais?': 'UsaRedesSociais',\n",
    "       'Quais redes sociais você usa? (Marque todas que se aplicam)': 'RedesSociais',\n",
    "       'Quanto tempo você costuma passar nas redes sociais por dia?': 'TempoRedesSociais',\n",
    "       'Com que frequência você usa as redes sociais sem um propósito específico?': 'FrequenciaUsoRedes',\n",
    "       'Com que frequência você se distrai com as redes sociais enquanto faz outras atividades?': 'DistraçãoRedes',\n",
    "       'Você se sente ansioso se não usa as redes sociais por um tempo?': 'AnsiedadeRedes',\n",
    "       'Em uma escala de 1 a 5, quão fácil é para você se distrair?': 'FacilidadeDistração',\n",
    "       'Em uma escala de 1 a 5, quanto você se preocupa com pensamentos negativos?': 'PreocupaçãoNegativa',\n",
    "       'Você acha difícil se concentrar nas suas atividades de trabalho/estudo?': 'DificuldadeConcentração',\n",
    "       'Quais tipos de contas você costuma seguir nas redes sociais? (Marque todas as que se aplicam)': 'ContasSeguidas',\n",
    "       'Em uma escala de 1 a 5, com que frequência você se compara a outras pessoas de sucesso nas redes sociais?': 'ComparaçãoSucesso',\n",
    "       'Como você geralmente se sente ao se comparar com outras pessoas nas redes sociais': 'SentimentoComparação' ,\n",
    "       'Com que frequência você busca validação nas redes sociais?': 'BuscaValidação',\n",
    "       'Com que frequência você se sente deprimido ou desanimado?': 'FrequenciaDepressão',\n",
    "       'Em uma escala de 1 a 5, com que frequência você experimenta mudanças no seu interesse pelas atividades diárias?\\xa0Isso inclui trabalho, hobbies, exercícios, interações sociais e tarefas domésticas': 'MudancaInteresse',\n",
    "       'Com base na pergunta anterior,\\xa0marque qual das seguintes opções melhor descreve o modo como o seu interesse muda:': 'DescriçãoMudançaInteresse',\n",
    "       'Em uma escala de 1 a 5, com que frequência você tem problemas para dormir?': 'ProblemasSono',\n",
    "       'Você já tentou reduzir o tempo que passa no celular?': 'TentativaReduçãoCelular',\n",
    "       'Se sim, o que te motivou a tentar reduzir o tempo que passa no celular?': 'MotivaçãoRedução',\n",
    "       'Quais medidas você tomou para reduzir o tempo que passa no celular?\\xa0(Marque todas que se aplicam)': 'MedidasRedução',\n",
    "       'Em relação às medidas que você mencionou na pergunta anterior, qual foi o seu nível de sucesso em reduzir o tempo que passa no celular?': 'SucessoRedução',\n",
    "       'Quais foram os principais desafios que você enfrentou ao tentar reduzir o tempo que passa no celular?': 'DesafiosRedução'}\n",
    "\n",
    "\n",
    "colunas = colunas.replace(colunas_resumidas)\n",
    "\n",
    "dados.columns = colunas"
   ]
  },
  {
   "cell_type": "code",
   "execution_count": null,
   "metadata": {},
   "outputs": [],
   "source": [
    "dados.columns"
   ]
  },
  {
   "cell_type": "code",
   "execution_count": null,
   "metadata": {},
   "outputs": [],
   "source": [
    "# Dicionario para a coluna 'Consetimento'\n",
    "\n",
    "# Esse dicionario foi criado, após a analise da distribuição dos dados, onde se viu que seria \n",
    "# necessario para visualizar melhor os dados\n",
    "\n",
    "dic_consentimento = {\n",
    "    'Sim, eu consinto em utilizar minhas respostas para fins de pesquisa.': 'Sim',\n",
    "    'Não, eu não consinto em utilizar minhas respostas para fins de pesquisa.': 'Não'\n",
    "}\n",
    "\n",
    "dados['Consentimento'] = dados['Consentimento'].map(dic_consentimento)\n",
    "dados['Consentimento'].unique()"
   ]
  },
  {
   "cell_type": "code",
   "execution_count": null,
   "metadata": {},
   "outputs": [],
   "source": [
    "# Dicionario para a coluna 'DescriçãoMundaçaInteresse'\n",
    "\n",
    "# Esse dicionario foi criado, após a analise da distribuição dos dados, onde se viu que seria \n",
    "# necessario para visualizar melhor os dados\n",
    "\n",
    "dic_descricao_mudanca_interesse = {\n",
    "    'Intensidade: O nível de entusiasmo ou motivação que você sente pela atividade.': 'Intensidade',\n",
    "    'Duração: A quantidade de tempo que você consegue se concentrar ou se dedicar à atividade.': 'Duração',\n",
    "    'Prazer: O quanto você se diverte ou se sente gratificado ao realizar a atividade.': 'Prazer'\n",
    "}\n",
    "\n",
    "dados['DescriçãoMudançaInteresse'] = dados['DescriçãoMudançaInteresse'].map(dic_descricao_mudanca_interesse)\n",
    "dados['DescriçãoMudançaInteresse'].unique()"
   ]
  },
  {
   "cell_type": "code",
   "execution_count": null,
   "metadata": {},
   "outputs": [],
   "source": [
    "# Dicionario para a coluna 'MotivaçãoRedução'\n",
    "\n",
    "# Esse dicionario foi criado, após a analise da distribuição dos dados, onde se viu que seria \n",
    "# necessario para visualizar melhor os dados\n",
    "\n",
    "dic_motivacao_reducao = {\n",
    "    'Motivos de produtividade': 'produtividade', \n",
    "    'Motivos de viver a vida real': 'viver_vida_real',\n",
    "    'Motivos de saúde': 'saude',\n",
    "    'A consciência sobre os malefícios do uso em excesso ': 'maleficios',\n",
    "    'Motivos de relacionamento': 'relacionamento',\n",
    "    'Por estar sempre vendo algo que no momento não consigo atingir! ': 'atingir_metas'\n",
    "    }\n",
    "\n",
    "dados['MotivaçãoRedução'] = dados['MotivaçãoRedução'].map(dic_motivacao_reducao)\n",
    "dados['MotivaçãoRedução'].unique()"
   ]
  },
  {
   "cell_type": "code",
   "execution_count": null,
   "metadata": {},
   "outputs": [],
   "source": [
    "ocupacoes_dummies = dados['Ocupações'].str.get_dummies(sep=';')\n",
    "ocupacoes_dummies.columns = ocupacoes_dummies.columns.str.strip().str.replace(' ', '_')\n",
    "\n",
    "redes_sociais_dummies = dados['RedesSociais'].str.get_dummies(sep=';')\n",
    "redes_sociais_dummies.columns = redes_sociais_dummies.columns.str.strip().str.replace(' ', '_')\n",
    "\n",
    "contas_seguidas_dummies = dados['ContasSeguidas'].str.get_dummies(sep=';')\n",
    "contas_seguidas_dummies.columns = contas_seguidas_dummies.columns.str.strip().str.replace(' ', '_')\n",
    "\n",
    "medidas_reducao_dummies = dados['MedidasRedução'].str.get_dummies(sep=';')\n",
    "medidas_reducao_dummies.columns = medidas_reducao_dummies.columns.str.strip().str.replace(' ', '_')\n"
   ]
  },
  {
   "cell_type": "code",
   "execution_count": null,
   "metadata": {},
   "outputs": [],
   "source": [
    "ocupacoes_dummies.head()\n"
   ]
  },
  {
   "cell_type": "code",
   "execution_count": null,
   "metadata": {},
   "outputs": [],
   "source": [
    "redes_sociais_dummies.head()"
   ]
  },
  {
   "cell_type": "code",
   "execution_count": null,
   "metadata": {},
   "outputs": [],
   "source": [
    "contas_seguidas_dummies.head()"
   ]
  },
  {
   "cell_type": "code",
   "execution_count": null,
   "metadata": {},
   "outputs": [],
   "source": [
    "medidas_reducao_dummies.head()"
   ]
  },
  {
   "cell_type": "code",
   "execution_count": null,
   "metadata": {},
   "outputs": [],
   "source": [
    "dados = pd.concat([dados, ocupacoes_dummies, redes_sociais_dummies, contas_seguidas_dummies, medidas_reducao_dummies], axis=1)"
   ]
  },
  {
   "cell_type": "code",
   "execution_count": null,
   "metadata": {},
   "outputs": [],
   "source": [
    "dados.head()"
   ]
  },
  {
   "cell_type": "code",
   "execution_count": null,
   "metadata": {},
   "outputs": [],
   "source": [
    "# Remoção das colunas que passaram pelo processo de get_dummies() e sprit()\n",
    "colunas_remover_get_dummies = ['Ocupações', 'RedesSociais', 'ContasSeguidas', 'MedidasRedução']\n",
    "\n",
    "\n",
    "# Após a analise da quantidade de nulos presentes na nossa base de dados. Foi observado que,\n",
    "# como nossa base vem de uma pesquisa anonima, algumas colunas como `nome` sempre terá valores nulos.\n",
    "colunas_remover_nulas= ['Fim', 'Email', 'Nome']\n",
    "\n",
    "dados = dados.drop(columns=colunas_remover_get_dummies)\n",
    "dados = dados.drop(columns=colunas_remover_nulas)"
   ]
  },
  {
   "cell_type": "code",
   "execution_count": null,
   "metadata": {},
   "outputs": [],
   "source": [
    "dados.columns"
   ]
  },
  {
   "cell_type": "markdown",
   "metadata": {},
   "source": [
    "### Parte 2"
   ]
  },
  {
   "cell_type": "markdown",
   "metadata": {},
   "source": [
    "#### Separação de dados para Validação\n",
    "\n",
    "Separar dados para validação antes de qualquer análise é crucial para garantir a confiabilidade e generalização de modelos. Essa prática previne problemas como sobreajuste e auxilia na detecção de vazamento de dados, promovendo análises mais precisas e resultados robustos\n",
    "\n",
    "Dado a natureza do projeto, nosso objetivo é identificar valores ou padrões que justificam certos comportamentos ou respondem a perguntas, como por exemplo, alguém que passa muitas horas nas redes sociais tendem a ter níveis de ansiedade elevadas?\n",
    "\n",
    "Por esse motivo, nossas variáveis Targets serão as colunas `AnsiedadeRedes`, `PreocupaçãoNegativa` e `FrequenciaDepressão`, tendo como principal feature `FrequenciaDepressão`."
   ]
  },
  {
   "cell_type": "code",
   "execution_count": null,
   "metadata": {},
   "outputs": [],
   "source": [
    "dados.head()"
   ]
  },
  {
   "cell_type": "code",
   "execution_count": null,
   "metadata": {},
   "outputs": [],
   "source": [
    "from sklearn.model_selection import train_test_split\n",
    "\n",
    "# Ansiedade, Preocupação e Depressão como variáveis alvo\n",
    "targets = [\"AnsiedadeRedes\", \"PreocupaçãoNegativa\", \"FrequenciaDepressão\"]\n",
    "\n",
    "# Separação 80/20 com random_state fixo\n",
    "dados_featutes = dados.drop(targets, axis=1)  # Features\n",
    "dados_targets= dados[targets]  # Target variables\n",
    "\n",
    "dados_features_train, dados_featutes_test, dados_targets_train, dados_targets_test = train_test_split(dados_featutes, dados_targets, test_size=0.2, shuffle=True, random_state=42)\n",
    "\n"
   ]
  },
  {
   "cell_type": "code",
   "execution_count": null,
   "metadata": {},
   "outputs": [],
   "source": [
    "print(dados_features_train.shape)\n",
    "print(dados_featutes_test.shape)\n",
    "print(dados_targets_train.shape)\n",
    "print(dados_targets_test.shape)"
   ]
  },
  {
   "cell_type": "code",
   "execution_count": null,
   "metadata": {},
   "outputs": [],
   "source": [
    "dados_features_train.head()"
   ]
  },
  {
   "cell_type": "code",
   "execution_count": null,
   "metadata": {},
   "outputs": [],
   "source": [
    "dados_targets_train.head()"
   ]
  },
  {
   "cell_type": "code",
   "execution_count": null,
   "metadata": {},
   "outputs": [],
   "source": [
    "dados_features_train.info()"
   ]
  },
  {
   "cell_type": "code",
   "execution_count": null,
   "metadata": {},
   "outputs": [],
   "source": [
    "dados_targets_train.info()"
   ]
  },
  {
   "cell_type": "code",
   "execution_count": null,
   "metadata": {},
   "outputs": [],
   "source": [
    "dados_features_train.describe()"
   ]
  },
  {
   "cell_type": "code",
   "execution_count": null,
   "metadata": {},
   "outputs": [],
   "source": [
    "dados_targets_train.describe()"
   ]
  },
  {
   "cell_type": "markdown",
   "metadata": {},
   "source": [
    "## Visualização de dados\n",
    "\n",
    "**Matplotlib** é uma biblioteca de visualização de dados amplamente utilizada, oferecendo uma gama versátil de gráficos, desde simples gráficos de linha até complexos mapas de calor. Com uma sintaxe flexível, os usuários podem personalizar cada aspecto de seus gráficos, desde cores e linhas até títulos e legendas. A facilidade de integração com outras bibliotecas Python a torna uma escolha popular entre cientistas de dados e analistas.\n",
    "\n",
    "**Seaborn** é uma extensão estilizada de Matplotlib, projetada para simplificar a criação de gráficos estatísticos complexos. Com poucas linhas de código, é possível gerar visualizações atraentes que ressaltam automaticamente padrões nos dados. Seaborn também oferece paletas de cores atraentes e funcionalidades específicas para lidar com conjuntos de dados estatísticos."
   ]
  },
  {
   "cell_type": "code",
   "execution_count": null,
   "metadata": {},
   "outputs": [],
   "source": [
    "import matplotlib.pyplot as plt\n",
    "\n",
    "eixo_X_features = dados_features_train.Idade.value_counts().sort_index().index\n",
    "eixo_Y_features = dados_features_train.Idade.value_counts().sort_index().values\n",
    "\n",
    "plt.figure(figsize=(15,5))\n",
    "\n",
    "plt.bar(eixo_X_features, eixo_Y_features, color='Black')\n",
    "plt.title('Histograma - Idades', fontsize=12)\n",
    "plt.xlabel(\"Idades\", fontsize = 12, color='blue')\n",
    "plt.ylabel(\"Numero de pessoas\", fontsize= 12, color='blue')\n",
    "plt.grid()\n"
   ]
  },
  {
   "cell_type": "markdown",
   "metadata": {},
   "source": [
    "## Análise Exploratória de Dados (EDA)"
   ]
  },
  {
   "cell_type": "markdown",
   "metadata": {},
   "source": [
    "### Análise Univariada"
   ]
  },
  {
   "cell_type": "markdown",
   "metadata": {},
   "source": [
    "#### **Variável Target**\n",
    "\n",
    "... a principal feature (coluna) ou resultado que um modelo de machine learning tenta prever ou explicar.\n",
    "\n",
    "No nosso caso:\n",
    "\n",
    "`AnsiedadeRedes`, `PreocupaçãoNegativa` e `FrequenciaDepressão`"
   ]
  },
  {
   "cell_type": "markdown",
   "metadata": {},
   "source": [
    "##### `AnsiedadeRedes`"
   ]
  },
  {
   "cell_type": "code",
   "execution_count": null,
   "metadata": {},
   "outputs": [],
   "source": [
    "dados_targets_train.AnsiedadeRedes.value_counts(normalize=True)"
   ]
  },
  {
   "cell_type": "code",
   "execution_count": null,
   "metadata": {},
   "outputs": [],
   "source": [
    "eixo_x = dados_targets_train.AnsiedadeRedes.value_counts().sort_values().index\n",
    "eixo_y = dados_targets_train.AnsiedadeRedes.value_counts().sort_values().values\n",
    "\n",
    "plt.figure(figsize=(15,5))\n",
    "\n",
    "plt.bar(eixo_x, eixo_y, color='Black')\n",
    "plt.title('Distribuição da variavel Target', fontsize=16)\n",
    "plt.xlabel('Niveis')\n",
    "plt.ylabel('Numero de pessoas')\n",
    "plt.grid()"
   ]
  },
  {
   "cell_type": "markdown",
   "metadata": {},
   "source": [
    "##### `PreocupaçãoNegativa`"
   ]
  },
  {
   "cell_type": "code",
   "execution_count": null,
   "metadata": {},
   "outputs": [],
   "source": [
    "eixo_x = dados_targets_train.PreocupaçãoNegativa.value_counts().sort_values().index\n",
    "eixo_y = dados_targets_train.PreocupaçãoNegativa.value_counts().sort_values().values\n",
    "\n",
    "plt.figure(figsize=(15,5))\n",
    "\n",
    "plt.bar(eixo_x, eixo_y, color='Black')\n",
    "plt.title('Distribuição da variavel Target', fontsize=16)\n",
    "plt.xlabel('Niveis')\n",
    "plt.ylabel('Numero de pessoas')\n",
    "plt.grid()"
   ]
  },
  {
   "cell_type": "markdown",
   "metadata": {},
   "source": [
    "##### `FrequenciaDepressão`"
   ]
  },
  {
   "cell_type": "code",
   "execution_count": null,
   "metadata": {},
   "outputs": [],
   "source": [
    "eixo_x = dados_targets_train.FrequenciaDepressão.value_counts().sort_values().index\n",
    "eixo_y = dados_targets_train.FrequenciaDepressão.value_counts().sort_values().values\n",
    "\n",
    "plt.figure(figsize=(15,5))\n",
    "\n",
    "plt.bar(eixo_x, eixo_y, color='Black')\n",
    "plt.title('Distribuição da variavel Target', fontsize=16)\n",
    "plt.xlabel('Niveis')\n",
    "plt.ylabel('Numero de pessoas')\n",
    "plt.grid()"
   ]
  },
  {
   "cell_type": "markdown",
   "metadata": {},
   "source": [
    "#### **Distribuição dos Dados**"
   ]
  },
  {
   "cell_type": "code",
   "execution_count": null,
   "metadata": {},
   "outputs": [],
   "source": [
    "import seaborn as sns\n",
    "\n",
    "#função para plotar detalhadamente cada coluna\n",
    "def plot_distribuicao(dados):\n",
    "    plt.figure(figsize=(12,4))\n",
    "    sns.histplot(dados, kde=True)\n",
    "    plt.show()"
   ]
  },
  {
   "cell_type": "code",
   "execution_count": null,
   "metadata": {},
   "outputs": [],
   "source": [
    "for coluna in dados_targets_train.columns:\n",
    "    plot_distribuicao(dados_targets_train[coluna])"
   ]
  },
  {
   "cell_type": "code",
   "execution_count": null,
   "metadata": {},
   "outputs": [],
   "source": [
    "for coluna in dados_features_train.columns:\n",
    "    plot_distribuicao(dados_features_train[coluna])"
   ]
  },
  {
   "cell_type": "markdown",
   "metadata": {},
   "source": [
    "#### **Quantidade de Nulos**"
   ]
  },
  {
   "cell_type": "code",
   "execution_count": null,
   "metadata": {},
   "outputs": [],
   "source": [
    "dados_targets_train.isna().sum().sort_values()"
   ]
  },
  {
   "cell_type": "code",
   "execution_count": null,
   "metadata": {},
   "outputs": [],
   "source": [
    "dados_features_train.isna().sum().sort_values()"
   ]
  },
  {
   "cell_type": "markdown",
   "metadata": {},
   "source": [
    "#### **Outliers**"
   ]
  },
  {
   "cell_type": "code",
   "execution_count": null,
   "metadata": {},
   "outputs": [],
   "source": [
    "#Função para plotar os graficos repetidamente\n",
    "def plota_boxplot(dados):\n",
    "    plt.figure(figsize=(12,4))\n",
    "    sns.boxplot(dados, orient='h')"
   ]
  },
  {
   "cell_type": "code",
   "execution_count": null,
   "metadata": {},
   "outputs": [],
   "source": [
    "for coluna in dados_targets_train.columns:\n",
    "    plota_boxplot(dados_targets_train[coluna])"
   ]
  },
  {
   "cell_type": "code",
   "execution_count": null,
   "metadata": {},
   "outputs": [],
   "source": [
    "for coluna in dados_features_train.columns:\n",
    "    plota_boxplot(dados_features_train[coluna])"
   ]
  },
  {
   "cell_type": "markdown",
   "metadata": {},
   "source": [
    "## Limpeza e pré-processamento de Dados\n",
    "\n",
    "> Tratamento de valores ausentes e outliers.\n",
    "\n",
    "A presença de dados faltantes ou valores extremos pode distorcer significativamente as análises, comprometendo a qualidade e confiabilidade dos resultados.\n",
    "\n",
    "> Conversão de tipos de dados.\n",
    "\n",
    "Garantir que os tipos de dados sejam apropriados para a análise pretendida é fundamental para evitar erros e melhorar o desempenho dos modelos.\n",
    "\n",
    "> Normalização de dados.\n",
    "\n",
    "Diferenças significativas nas escalas de variáveis podem impactar negativamente algoritmos de aprendizado de máquina, levando a resultados distorcidos. A normalização permite padronizar as escalas, garantindo que todas as variáveis contribuam igualmente para a modelagem.\n",
    "\n",
    "> Transformação de dados.\n",
    "\n",
    "Essa técnica envolve a aplicação de funções matemáticas ou estatísticas aos dados existentes, resultando em novas características ou formatos. A transformação pode ser útil para normalizar distribuições, reduzir a dimensionalidade dos dados, ou mesmo para melhorar a adequação de modelos estatísticos.\n",
    "\n",
    "> Codificação de variáveis categóricas\n",
    "\n",
    "A representação adequada de variáveis categóricas assegura que algoritmos possam interpretar e utilizar essas características de maneira eficaz."
   ]
  },
  {
   "cell_type": "markdown",
   "metadata": {},
   "source": [
    "#### Tratamento de valores Ausentes\n",
    "\n",
    "1. Variável target\n",
    "2. Demais variáveis"
   ]
  },
  {
   "cell_type": "markdown",
   "metadata": {},
   "source": [
    "> Como nossa base de dados deriva de uma pesquisa e a maioria das perguntas são obrigatorias, ou seja, um ambiente controlado, conseguimos identificar que são poucos os casos onde podem ocasionar em dados nulos\n",
    "\n",
    "> Desse modo, é possivel indentificar que não há problemas para a nossa previsão no futuro ao excluir as linhas que possuem valores nulos`"
   ]
  },
  {
   "cell_type": "code",
   "execution_count": null,
   "metadata": {},
   "outputs": [],
   "source": [
    "dados_features_train.dropna(subset=[\"FrequenciaUsoRedes\"], inplace=True)\n",
    "dados_targets_train.dropna(inplace=True)"
   ]
  },
  {
   "cell_type": "code",
   "execution_count": null,
   "metadata": {},
   "outputs": [],
   "source": [
    "dados_targets_train.isna().sum().sort_values()"
   ]
  },
  {
   "cell_type": "code",
   "execution_count": null,
   "metadata": {},
   "outputs": [],
   "source": [
    "dados_features_train.isna().sum().sort_values()"
   ]
  },
  {
   "cell_type": "markdown",
   "metadata": {},
   "source": [
    "> Para as features `MotivaçãoRedução` e `SucessoRedução` e `DesafiosRedução` será imputado o valor `Não tentou reduzir` pois esses valores só poderiam ser preenchidos caso o entrevistado respondesse \"Sim\" para a pergunta 'Você já tentou reduzir o tempo que passa no celular?\""
   ]
  },
  {
   "cell_type": "code",
   "execution_count": null,
   "metadata": {},
   "outputs": [],
   "source": [
    "dados_features_train.loc[dados_features_train['TentativaReduçãoCelular'] == 'Não', ['MotivaçãoRedução', 'SucessoRedução', 'DesafiosRedução']] = dados_features_train.loc[dados_features_train['TentativaReduçãoCelular'] == 'Não', ['MotivaçãoRedução', 'SucessoRedução', 'DesafiosRedução']].fillna('Não se aplica')"
   ]
  },
  {
   "cell_type": "markdown",
   "metadata": {},
   "source": [
    "> Para o restante dos valores nulos presentes na feature `DesafioRedução` será imputado o valor `não quis responder` pois se tratava de uma pergunta não obrigatoria."
   ]
  },
  {
   "cell_type": "code",
   "execution_count": null,
   "metadata": {},
   "outputs": [],
   "source": [
    "dados_features_train['DesafiosRedução'].fillna('Não quis responder', inplace=True)"
   ]
  },
  {
   "cell_type": "code",
   "execution_count": null,
   "metadata": {},
   "outputs": [],
   "source": [
    "dados_features_train.isna().sum().sort_values()"
   ]
  },
  {
   "cell_type": "markdown",
   "metadata": {},
   "source": [
    "#### Tratamento de Outliers"
   ]
  },
  {
   "cell_type": "markdown",
   "metadata": {},
   "source": [
    "> O outliers que foi encontrado corresponde a feature `DesafiosRedução` que possui inumeros valores categoricos diferentes, o que não permite uma visão significativa da distribuição dos dados dessa features.\n",
    "\n",
    "> A solução encontrada para solucionar essa outlier é a criação de outras features para categorizar esses valores com base nas suas simialidades."
   ]
  },
  {
   "cell_type": "code",
   "execution_count": null,
   "metadata": {},
   "outputs": [],
   "source": [
    "dados_features_train[\"DesafiosRedução\"].unique()"
   ]
  },
  {
   "cell_type": "code",
   "execution_count": null,
   "metadata": {},
   "outputs": [],
   "source": [
    "def categorizar_desafio(valor):\n",
    "    tédio = 0\n",
    "    ansiedade = 0\n",
    "    necessidade = 0\n",
    "    adaptar_restrição_uso = 0\n",
    "    falta_de_informações = 0\n",
    "    nenhum = 0\n",
    "    \n",
    "    if \"tédio\" in valor.lower() or \"Falta do que fazer\" in valor.lower():\n",
    "        tédio = 1\n",
    "    elif \"ansiedade\" in valor.lower() or 'ansiosa' in valor.lower():\n",
    "        ansiedade = 1\n",
    "    elif \"necessidade\" in valor.lower() or \"depender do celular\" in valor.lower() or \"interagir\" in valor.lower() or \"faculdade\" in valor.lower():\n",
    "        necessidade = 1\n",
    "    elif \"dificuldade de acostumar\" in valor.lower() or \"buscar substitutos ao celular\" in valor.lower() or \"cumprir tempo\" in valor.lower():\n",
    "        adaptar_restrição_uso = 1\n",
    "    elif \"falta de informação\" in valor.lower() or \"desconectado\" in valor.lower():\n",
    "        falta_de_informações = 1\n",
    "    else:\n",
    "        nenhum = 1\n",
    "    \n",
    "    return pd.Series([tédio, ansiedade, necessidade, adaptar_restrição_uso, falta_de_informações, nenhum])\n",
    "\n",
    "# Aplicar a função a cada valor único da feature \"DesafiosRedução\"\n",
    "df_categorizado = dados_features_train['DesafiosRedução'].apply(categorizar_desafio)\n",
    "df_categorizado.columns = ['Desafios_Redução_Tedio', 'Desafios_Redução_Ansiedade', 'Desafios_Redução_Necessidade', 'Desafios_Redução_Adaptar_Restrição_Uso', 'Desafios_Redução_Falta_de_Informações', 'Desafios_Redução_Nenhum']"
   ]
  },
  {
   "cell_type": "code",
   "execution_count": null,
   "metadata": {},
   "outputs": [],
   "source": [
    "df_categorizado.head()"
   ]
  },
  {
   "cell_type": "code",
   "execution_count": null,
   "metadata": {},
   "outputs": [],
   "source": [
    "for coluna in df_categorizado.columns:\n",
    "    plot_distribuicao(df_categorizado[coluna])"
   ]
  },
  {
   "cell_type": "code",
   "execution_count": null,
   "metadata": {},
   "outputs": [],
   "source": [
    "dados_features_train = pd.concat([dados_features_train, df_categorizado], axis=1)\n",
    "\n",
    "dados_features_train.head()"
   ]
  },
  {
   "cell_type": "code",
   "execution_count": null,
   "metadata": {},
   "outputs": [],
   "source": [
    "dados_features_train = dados_features_train.drop(columns='DesafiosRedução')"
   ]
  },
  {
   "cell_type": "code",
   "execution_count": null,
   "metadata": {},
   "outputs": [],
   "source": [
    "dados_features_train.columns"
   ]
  },
  {
   "cell_type": "markdown",
   "metadata": {},
   "source": [
    "## Limpeza e pré-processamento de Dados\n",
    "\n",
    "> Tratamento de valores ausentes e outliers.\n",
    "\n",
    "A presença de dados faltantes ou valores extremos pode distorcer significativamente as análises, comprometendo a qualidade e confiabilidade dos resultados.\n",
    "\n",
    "> Conversão de tipos de dados.\n",
    "\n",
    "Garantir que os tipos de dados sejam apropriados para a análise pretendida é fundamental para evitar erros e melhorar o desempenho dos modelos.\n",
    "\n",
    "> Normalização de dados.\n",
    "\n",
    "Diferenças significativas nas escalas de variáveis podem impactar negativamente algoritmos de aprendizado de máquina, levando a resultados distorcidos. A normalização permite padronizar as escalas, garantindo que todas as variáveis contribuam igualmente para a modelagem.\n",
    "\n",
    "> Transformação de dados.\n",
    "\n",
    "Essa técnica envolve a aplicação de funções matemáticas ou estatísticas aos dados existentes, resultando em novas características ou formatos. A transformação pode ser útil para normalizar distribuições, reduzir a dimensionalidade dos dados, ou mesmo para melhorar a adequação de modelos estatísticos.\n",
    "\n",
    "> Codificação de variáveis categóricas\n",
    "\n",
    "A representação adequada de variáveis categóricas assegura que algoritmos possam interpretar e utilizar essas características de maneira eficaz."
   ]
  },
  {
   "cell_type": "markdown",
   "metadata": {},
   "source": [
    "#### Tratamento de valores Ausentes\n",
    "\n",
    "1. Variável target\n",
    "2. Demais variáveis"
   ]
  },
  {
   "cell_type": "markdown",
   "metadata": {},
   "source": [
    "> Como nossa base de dados deriva de uma pesquisa e a maioria das perguntas são obrigatorias, ou seja, um ambiente controlado, conseguimos identificar que são poucos os casos onde podem ocasionar em dados nulos\n",
    "\n",
    "> Desse modo, é possivel indentificar que não há problemas para a nossa previsão no futuro ao excluir as linhas que possuem valores nulos`"
   ]
  },
  {
   "cell_type": "code",
   "execution_count": null,
   "metadata": {},
   "outputs": [],
   "source": [
    "dados_features_train.dropna(subset=[\"FrequenciaUsoRedes\"], inplace=True)\n",
    "dados_targets_train.dropna(inplace=True)"
   ]
  },
  {
   "cell_type": "code",
   "execution_count": null,
   "metadata": {},
   "outputs": [],
   "source": [
    "dados_targets_train.isna().sum().sort_values()"
   ]
  },
  {
   "cell_type": "code",
   "execution_count": null,
   "metadata": {},
   "outputs": [],
   "source": [
    "dados_features_train.isna().sum().sort_values()"
   ]
  },
  {
   "cell_type": "markdown",
   "metadata": {},
   "source": [
    "> Para as features `MotivaçãoRedução` e `SucessoRedução` e `DesafiosRedução` será imputado o valor `Não tentou reduzir` pois esses valores só poderiam ser preenchidos caso o entrevistado respondesse \"Sim\" para a pergunta 'Você já tentou reduzir o tempo que passa no celular?\""
   ]
  },
  {
   "cell_type": "code",
   "execution_count": null,
   "metadata": {},
   "outputs": [],
   "source": [
    "dados_features_train.loc[dados_features_train['TentativaReduçãoCelular'] == 'Não', ['MotivaçãoRedução', 'SucessoRedução', 'DesafiosRedução']] = dados_features_train.loc[dados_features_train['TentativaReduçãoCelular'] == 'Não', ['MotivaçãoRedução', 'SucessoRedução', 'DesafiosRedução']].fillna('Não se aplica')"
   ]
  },
  {
   "cell_type": "markdown",
   "metadata": {},
   "source": [
    "> Para o restante dos valores nulos presentes na feature `DesafioRedução` será imputado o valor `não quis responder` pois se tratava de uma pergunta não obrigatoria."
   ]
  },
  {
   "cell_type": "code",
   "execution_count": null,
   "metadata": {},
   "outputs": [],
   "source": [
    "dados_features_train['DesafiosRedução'].fillna('Não quis responder', inplace=True)"
   ]
  },
  {
   "cell_type": "code",
   "execution_count": null,
   "metadata": {},
   "outputs": [],
   "source": [
    "dados_features_train.isna().sum().sort_values()"
   ]
  },
  {
   "cell_type": "markdown",
   "metadata": {},
   "source": [
    "#### Tratamento de Outliers"
   ]
  },
  {
   "cell_type": "markdown",
   "metadata": {},
   "source": [
    "> O outliers que foi encontrado corresponde a feature `DesafiosRedução` que possui inumeros valores categoricos diferentes, o que não permite uma visão significativa da distribuição dos dados dessa features.\n",
    "\n",
    "> A solução encontrada para solucionar essa outlier é a criação de outras features para categorizar esses valores com base nas suas simialidades."
   ]
  },
  {
   "cell_type": "code",
   "execution_count": null,
   "metadata": {},
   "outputs": [],
   "source": [
    "dados_features_train[\"DesafiosRedução\"].unique()"
   ]
  },
  {
   "cell_type": "code",
   "execution_count": null,
   "metadata": {},
   "outputs": [],
   "source": [
    "def categorizar_desafio(valor):\n",
    "    tédio = 0\n",
    "    ansiedade = 0\n",
    "    necessidade = 0\n",
    "    adaptar_restrição_uso = 0\n",
    "    falta_de_informações = 0\n",
    "    nenhum = 0\n",
    "    \n",
    "    if \"tédio\" in valor.lower() or \"Falta do que fazer\" in valor.lower():\n",
    "        tédio = 1\n",
    "    elif \"ansiedade\" in valor.lower() or 'ansiosa' in valor.lower():\n",
    "        ansiedade = 1\n",
    "    elif \"necessidade\" in valor.lower() or \"depender do celular\" in valor.lower() or \"interagir\" in valor.lower() or \"faculdade\" in valor.lower():\n",
    "        necessidade = 1\n",
    "    elif \"dificuldade de acostumar\" in valor.lower() or \"buscar substitutos ao celular\" in valor.lower() or \"cumprir tempo\" in valor.lower():\n",
    "        adaptar_restrição_uso = 1\n",
    "    elif \"falta de informação\" in valor.lower() or \"desconectado\" in valor.lower():\n",
    "        falta_de_informações = 1\n",
    "    else:\n",
    "        nenhum = 1\n",
    "    \n",
    "    return pd.Series([tédio, ansiedade, necessidade, adaptar_restrição_uso, falta_de_informações, nenhum])\n",
    "\n",
    "# Aplicar a função a cada valor único da feature \"DesafiosRedução\"\n",
    "df_categorizado = dados_features_train['DesafiosRedução'].apply(categorizar_desafio)\n",
    "df_categorizado.columns = ['Desafios_Redução_Tedio', 'Desafios_Redução_Ansiedade', 'Desafios_Redução_Necessidade', 'Desafios_Redução_Adaptar_Restrição_Uso', 'Desafios_Redução_Falta_de_Informações', 'Desafios_Redução_Nenhum']"
   ]
  },
  {
   "cell_type": "code",
   "execution_count": null,
   "metadata": {},
   "outputs": [],
   "source": [
    "df_categorizado.head()"
   ]
  },
  {
   "cell_type": "code",
   "execution_count": null,
   "metadata": {},
   "outputs": [],
   "source": [
    "for coluna in df_categorizado.columns:\n",
    "    plot_distribuicao(df_categorizado[coluna])"
   ]
  },
  {
   "cell_type": "code",
   "execution_count": null,
   "metadata": {},
   "outputs": [],
   "source": [
    "dados_features_train = pd.concat([dados_features_train, df_categorizado], axis=1)\n",
    "\n",
    "dados_features_train.head()"
   ]
  },
  {
   "cell_type": "code",
   "execution_count": null,
   "metadata": {},
   "outputs": [],
   "source": [
    "dados_features_train = dados_features_train.drop(columns='DesafiosRedução')"
   ]
  },
  {
   "cell_type": "code",
   "execution_count": null,
   "metadata": {},
   "outputs": [],
   "source": [
    "dados_features_train.columns"
   ]
  },
  {
   "cell_type": "markdown",
   "metadata": {},
   "source": [
    "## Limpeza e pré-processamento de Dados\n",
    "\n",
    "> Tratamento de valores ausentes e outliers.\n",
    "\n",
    "A presença de dados faltantes ou valores extremos pode distorcer significativamente as análises, comprometendo a qualidade e confiabilidade dos resultados.\n",
    "\n",
    "> Conversão de tipos de dados.\n",
    "\n",
    "Garantir que os tipos de dados sejam apropriados para a análise pretendida é fundamental para evitar erros e melhorar o desempenho dos modelos.\n",
    "\n",
    "> Normalização de dados.\n",
    "\n",
    "Diferenças significativas nas escalas de variáveis podem impactar negativamente algoritmos de aprendizado de máquina, levando a resultados distorcidos. A normalização permite padronizar as escalas, garantindo que todas as variáveis contribuam igualmente para a modelagem.\n",
    "\n",
    "> Transformação de dados.\n",
    "\n",
    "Essa técnica envolve a aplicação de funções matemáticas ou estatísticas aos dados existentes, resultando em novas características ou formatos. A transformação pode ser útil para normalizar distribuições, reduzir a dimensionalidade dos dados, ou mesmo para melhorar a adequação de modelos estatísticos.\n",
    "\n",
    "> Codificação de variáveis categóricas\n",
    "\n",
    "A representação adequada de variáveis categóricas assegura que algoritmos possam interpretar e utilizar essas características de maneira eficaz."
   ]
  },
  {
   "cell_type": "markdown",
   "metadata": {},
   "source": [
    "#### Tratamento de valores Ausentes\n",
    "\n",
    "1. Variável target\n",
    "2. Demais variáveis"
   ]
  },
  {
   "cell_type": "markdown",
   "metadata": {},
   "source": [
    "> Como nossa base de dados deriva de uma pesquisa e a maioria das perguntas são obrigatorias, ou seja, um ambiente controlado, conseguimos identificar que são poucos os casos onde podem ocasionar em dados nulos\n",
    "\n",
    "> Desse modo, é possivel indentificar que não há problemas para a nossa previsão no futuro ao excluir as linhas que possuem valores nulos`"
   ]
  },
  {
   "cell_type": "code",
   "execution_count": null,
   "metadata": {},
   "outputs": [],
   "source": [
    "dados_features_train.dropna(subset=[\"FrequenciaUsoRedes\"], inplace=True)\n",
    "dados_targets_train.dropna(inplace=True)"
   ]
  },
  {
   "cell_type": "code",
   "execution_count": null,
   "metadata": {},
   "outputs": [],
   "source": [
    "dados_targets_train.isna().sum().sort_values()"
   ]
  },
  {
   "cell_type": "code",
   "execution_count": null,
   "metadata": {},
   "outputs": [],
   "source": [
    "dados_features_train.isna().sum().sort_values()"
   ]
  },
  {
   "cell_type": "markdown",
   "metadata": {},
   "source": [
    "> Para as features `MotivaçãoRedução` e `SucessoRedução` e `DesafiosRedução` será imputado o valor `Não tentou reduzir` pois esses valores só poderiam ser preenchidos caso o entrevistado respondesse \"Sim\" para a pergunta 'Você já tentou reduzir o tempo que passa no celular?\""
   ]
  },
  {
   "cell_type": "code",
   "execution_count": null,
   "metadata": {},
   "outputs": [],
   "source": [
    "dados_features_train.loc[dados_features_train['TentativaReduçãoCelular'] == 'Não', ['MotivaçãoRedução', 'SucessoRedução', 'DesafiosRedução']] = dados_features_train.loc[dados_features_train['TentativaReduçãoCelular'] == 'Não', ['MotivaçãoRedução', 'SucessoRedução', 'DesafiosRedução']].fillna('Não se aplica')"
   ]
  },
  {
   "cell_type": "markdown",
   "metadata": {},
   "source": [
    "> Para o restante dos valores nulos presentes na feature `DesafioRedução` será imputado o valor `não quis responder` pois se tratava de uma pergunta não obrigatoria."
   ]
  },
  {
   "cell_type": "code",
   "execution_count": null,
   "metadata": {},
   "outputs": [],
   "source": [
    "dados_features_train['DesafiosRedução'].fillna('Não quis responder', inplace=True)"
   ]
  },
  {
   "cell_type": "code",
   "execution_count": null,
   "metadata": {},
   "outputs": [],
   "source": [
    "dados_features_train.isna().sum().sort_values()"
   ]
  },
  {
   "cell_type": "markdown",
   "metadata": {},
   "source": [
    "#### Tratamento de Outliers"
   ]
  },
  {
   "cell_type": "markdown",
   "metadata": {},
   "source": [
    "> O outliers que foi encontrado corresponde a feature `DesafiosRedução` que possui inumeros valores categoricos diferentes, o que não permite uma visão significativa da distribuição dos dados dessa features.\n",
    "\n",
    "> A solução encontrada para solucionar essa outlier é a criação de outras features para categorizar esses valores com base nas suas simialidades."
   ]
  },
  {
   "cell_type": "code",
   "execution_count": null,
   "metadata": {},
   "outputs": [],
   "source": [
    "dados_features_train[\"DesafiosRedução\"].unique()"
   ]
  },
  {
   "cell_type": "code",
   "execution_count": null,
   "metadata": {},
   "outputs": [],
   "source": [
    "def categorizar_desafio(valor):\n",
    "    tédio = 0\n",
    "    ansiedade = 0\n",
    "    necessidade = 0\n",
    "    adaptar_restrição_uso = 0\n",
    "    falta_de_informações = 0\n",
    "    nenhum = 0\n",
    "    \n",
    "    if \"tédio\" in valor.lower() or \"Falta do que fazer\" in valor.lower():\n",
    "        tédio = 1\n",
    "    elif \"ansiedade\" in valor.lower() or 'ansiosa' in valor.lower():\n",
    "        ansiedade = 1\n",
    "    elif \"necessidade\" in valor.lower() or \"depender do celular\" in valor.lower() or \"interagir\" in valor.lower() or \"faculdade\" in valor.lower():\n",
    "        necessidade = 1\n",
    "    elif \"dificuldade de acostumar\" in valor.lower() or \"buscar substitutos ao celular\" in valor.lower() or \"cumprir tempo\" in valor.lower():\n",
    "        adaptar_restrição_uso = 1\n",
    "    elif \"falta de informação\" in valor.lower() or \"desconectado\" in valor.lower():\n",
    "        falta_de_informações = 1\n",
    "    else:\n",
    "        nenhum = 1\n",
    "    \n",
    "    return pd.Series([tédio, ansiedade, necessidade, adaptar_restrição_uso, falta_de_informações, nenhum])\n",
    "\n",
    "# Aplicar a função a cada valor único da feature \"DesafiosRedução\"\n",
    "df_categorizado = dados_features_train['DesafiosRedução'].apply(categorizar_desafio)\n",
    "df_categorizado.columns = ['Desafios_Redução_Tedio', 'Desafios_Redução_Ansiedade', 'Desafios_Redução_Necessidade', 'Desafios_Redução_Adaptar_Restrição_Uso', 'Desafios_Redução_Falta_de_Informações', 'Desafios_Redução_Nenhum']"
   ]
  },
  {
   "cell_type": "code",
   "execution_count": null,
   "metadata": {},
   "outputs": [],
   "source": [
    "df_categorizado.head()"
   ]
  },
  {
   "cell_type": "code",
   "execution_count": null,
   "metadata": {},
   "outputs": [],
   "source": [
    "for coluna in df_categorizado.columns:\n",
    "    plot_distribuicao(df_categorizado[coluna])"
   ]
  },
  {
   "cell_type": "code",
   "execution_count": null,
   "metadata": {},
   "outputs": [],
   "source": [
    "dados_features_train = pd.concat([dados_features_train, df_categorizado], axis=1)\n",
    "\n",
    "dados_features_train.head()"
   ]
  },
  {
   "cell_type": "code",
   "execution_count": null,
   "metadata": {},
   "outputs": [],
   "source": [
    "dados_features_train = dados_features_train.drop(columns='DesafiosRedução')"
   ]
  },
  {
   "cell_type": "code",
   "execution_count": null,
   "metadata": {},
   "outputs": [],
   "source": [
    "dados_features_train.columns"
   ]
  }
 ],
 "metadata": {
  "kernelspec": {
   "display_name": "Python 3",
   "language": "python",
   "name": "python3"
  },
  "language_info": {
   "codemirror_mode": {
    "name": "ipython",
    "version": 3
   },
   "file_extension": ".py",
   "mimetype": "text/x-python",
   "name": "python",
   "nbconvert_exporter": "python",
   "pygments_lexer": "ipython3",
   "version": "3.11.9"
  }
 },
 "nbformat": 4,
 "nbformat_minor": 2
}
